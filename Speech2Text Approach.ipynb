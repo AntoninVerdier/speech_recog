{
 "cells": [
  {
   "cell_type": "code",
   "execution_count": 1,
   "metadata": {},
   "outputs": [],
   "source": [
    "from tensorflow.compat.v1 import ConfigProto\n",
    "from tensorflow.compat.v1 import Session\n",
    "import os\n",
    "import librosa\n",
    "import IPython.display as ipd\n",
    "import matplotlib.pyplot as plt\n",
    "import numpy as np\n",
    "from scipy.io import wavfile\n",
    "from tqdm import tqdm\n",
    "import warnings\n",
    "\n",
    "\n",
    "config = ConfigProto()\n",
    "config.gpu_options.allow_growth = True\n",
    "sess = Session(config=config)\n",
    "\n",
    "warnings.filterwarnings(\"ignore\")"
   ]
  },
  {
   "cell_type": "code",
   "execution_count": 2,
   "metadata": {},
   "outputs": [],
   "source": [
    "# All samples\n",
    "# labels = [\n",
    "#     'left', 'cat', 'wow', 'six', 'go', 'one', 'dog', 'nine', 'sheila', 'yes',\n",
    "#     'down', 'bird', 'tree', 'up', 'eight', 'bed', 'three', 'on', 'house',\n",
    "#     'five', 'seven', 'zero', 'right', 'four', 'no', 'two', 'off', 'happy',\n",
    "#     'stop', 'marvin'\n",
    "# ]\n",
    "\n",
    "# Subsample\n",
    "labels = [\n",
    "    'left', 'go', 'yes', 'down', 'up', 'on', 'right', 'no', 'off', 'stop',\n",
    "]"
   ]
  },
  {
   "cell_type": "code",
   "execution_count": 3,
   "metadata": {},
   "outputs": [
    {
     "name": "stderr",
     "output_type": "stream",
     "text": [

      "100%|██████████| 10/10 [03:43<00:00, 22.38s/it]\n"
     ]
    }
   ],
   "source": [
    "train_audio_path = '../Data/train/audio'\n",
    "\n",
    "all_wave = []\n",
    "all_label = []\n",
    "for label in tqdm(labels):\n",
    "    waves = [f for f in os.listdir(os.path.join(train_audio_path, label)) if f.endswith('.wav')]\n",
    "    for wav in waves:\n",
    "        samples, sample_rate = librosa.load(os.path.join(train_audio_path, label, wav), sr=16000)\n",
    "        samples = librosa.resample(samples, sample_rate, 8000)\n",
    "        if(len(samples)== 8000) : \n",
    "            all_wave.append(samples)\n",
    "            all_label.append(label)\n"
   ]
  },
  {
   "cell_type": "code",
   "execution_count": 8,
   "metadata": {},
   "outputs": [],
   "source": [
    "from sklearn.preprocessing import LabelEncoder\n",
    "from keras.utils import np_utils\n",
    "\n",
    "label_enconder = LabelEncoder()\n",
    "y = label_enconder.fit_transform(all_label)\n",
    "classes = list(label_enconder.classes_)\n",
    "y = np_utils.to_categorical(y, num_classes=len(labels))"
   ]
  },
  {
   "cell_type": "code",
   "execution_count": 9,
   "metadata": {},
   "outputs": [],
   "source": [
    "all_wave = np.array(all_wave).reshape(-1,8000,1)"
   ]
  },
  {
   "cell_type": "code",
   "execution_count": 10,
   "metadata": {},
   "outputs": [],
   "source": [
    "from sklearn.model_selection import train_test_split\n",
    "x_train, x_valid, y_train, y_valid = train_test_split(np.array(all_wave),np.array(y),stratify=y,test_size = 0.2,random_state=777,shuffle=True)"
   ]
  },
  {
   "cell_type": "code",
   "execution_count": 12,
   "metadata": {},
   "outputs": [
    {
     "name": "stdout",
     "output_type": "stream",
     "text": [
      "Model: \"sequential\"\n",
      "_________________________________________________________________\n",
      "Layer (type)                 Output Shape              Param #   \n",
      "=================================================================\n",
      "batch_normalization (BatchNo (None, 8000, 1)           4         \n",
      "_________________________________________________________________\n",
      "conv1d (Conv1D)              (None, 7988, 8)           112       \n",
      "_________________________________________________________________\n",
      "max_pooling1d (MaxPooling1D) (None, 2662, 8)           0         \n",
      "_________________________________________________________________\n",
      "dropout (Dropout)            (None, 2662, 8)           0         \n",
      "_________________________________________________________________\n",
      "conv1d_1 (Conv1D)            (None, 2652, 16)          1424      \n",
      "_________________________________________________________________\n",
      "max_pooling1d_1 (MaxPooling1 (None, 884, 16)           0         \n",
      "_________________________________________________________________\n",
      "dropout_1 (Dropout)          (None, 884, 16)           0         \n",
      "_________________________________________________________________\n",
      "conv1d_2 (Conv1D)            (None, 876, 32)           4640      \n",
      "_________________________________________________________________\n",
      "max_pooling1d_2 (MaxPooling1 (None, 292, 32)           0         \n",
      "_________________________________________________________________\n",
      "dropout_2 (Dropout)          (None, 292, 32)           0         \n",
      "_________________________________________________________________\n",
      "batch_normalization_1 (Batch (None, 292, 32)           128       \n",
      "_________________________________________________________________\n",
      "bidirectional (Bidirectional (None, 292, 128)          124416    \n",
      "_________________________________________________________________\n",
      "bidirectional_1 (Bidirection (None, 292, 128)          198144    \n",
      "_________________________________________________________________\n",
      "bidirectional_2 (Bidirection (None, 128)               198144    \n",
      "_________________________________________________________________\n",
      "dense (Dense)                (None, 256)               33024     \n",
      "_________________________________________________________________\n",
      "dense_1 (Dense)              (None, 10)                2570      \n",
      "=================================================================\n",
      "Total params: 562,606\n",
      "Trainable params: 562,540\n",
      "Non-trainable params: 66\n",
      "_________________________________________________________________\n"
     ]
    }
   ],
   "source": [
    "from keras.layers import Bidirectional, BatchNormalization, GRU, TimeDistributed\n",
    "from keras.layers import Dense, Dropout, Flatten, Conv1D, Input, MaxPooling1D\n",
    "from keras.models import Model, Sequential\n",
    "from keras.callbacks import EarlyStopping, ModelCheckpoint\n",
    "from keras import backend as K\n",
    "K.clear_session()\n",
    "import os\n",
    "os.environ['TF_FORCE_GPU_ALLOW_GROWTH'] = \"true\"\n",
    "\n",
    "\n",
    "\n",
    "model = Sequential()\n",
    "model.add(Input(shape=(8000,1)))\n",
    "model.add(BatchNormalization(axis=-1, momentum=0.99, epsilon=1e-3, center=True, scale=True))\n",
    "\n",
    "#First Conv1D layer\n",
    "model.add(Conv1D(8,13, padding='valid', activation='relu', strides=1))\n",
    "model.add(MaxPooling1D(3))\n",
    "model.add(Dropout(0.3))\n",
    "\n",
    "#Second Conv1D layer\n",
    "model.add(Conv1D(16, 11, padding='valid', activation='relu', strides=1))\n",
    "model.add(MaxPooling1D(3))\n",
    "model.add(Dropout(0.3))\n",
    "\n",
    "#Third Conv1D layer\n",
    "model.add(Conv1D(32, 9, padding='valid', activation='relu', strides=1))\n",
    "model.add(MaxPooling1D(3))\n",
    "model.add(Dropout(0.3))\n",
    "\n",
    "model.add(BatchNormalization(axis=-1, momentum=0.99, epsilon=1e-3, center=True, scale=True))\n",
    "\n",
    "model.add(Bidirectional(GRU(128, return_sequences=True), merge_mode='sum'))\n",
    "model.add(Bidirectional(GRU(128, return_sequences=True), merge_mode='sum'))\n",
    "model.add(Bidirectional(GRU(128, return_sequences=False), merge_mode='sum'))\n",
    "\n",
    "x = BatchNormalization(axis=-1, momentum=0.99, epsilon=1e-3, center=True, scale=True)\n",
    "\n",
    "#Flatten layer\n",
    "# x = Flatten()(x)\n",
    "\n",
    "#Dense Layer 1\n",
    "model.add(Dense(256, activation='relu'))\n",
    "model.add(Dense(len(labels), activation=\"softmax\"))\n",
    "model.summary()"
   ]
  },
  {
   "cell_type": "code",
   "execution_count": 13,
   "metadata": {},
   "outputs": [],
   "source": [
    "model.compile(loss='categorical_crossentropy',optimizer='nadam',metrics=['accuracy'])"
   ]
  },
  {
   "cell_type": "code",
   "execution_count": 14,
   "metadata": {},
   "outputs": [],
   "source": [
    "early_stop = EarlyStopping(monitor='val_loss', mode='min', \n",
    "                           verbose=1, patience=10, min_delta=0.0001)\n",
    "\n",
    "checkpoint = ModelCheckpoint('speech2text_model.hdf5', monitor='val_acc', \n",
    "                             verbose=1, save_best_only=True, mode='max')"
   ]
  },
  {
   "cell_type": "code",
   "execution_count": 17,
   "metadata": {},
   "outputs": [
    {
     "name": "stdout",
     "output_type": "stream",
     "text": [
      "Epoch 1/100\n",
      "533/533 [==============================] - ETA: 0s - loss: 2.3042 - accuracy: 0.1013WARNING:tensorflow:Can save best model only with val_acc available, skipping.\n",
      "533/533 [==============================] - 41s 77ms/step - loss: 2.3042 - accuracy: 0.1013 - val_loss: 2.2908 - val_accuracy: 0.1091\n",
      "Epoch 2/100\n",
      "533/533 [==============================] - ETA: 0s - loss: 1.9397 - accuracy: 0.2451WARNING:tensorflow:Can save best model only with val_acc available, skipping.\n",
      "533/533 [==============================] - 40s 75ms/step - loss: 1.9397 - accuracy: 0.2451 - val_loss: 0.9789 - val_accuracy: 0.6327\n",
      "Epoch 3/100\n",
      "533/533 [==============================] - ETA: 0s - loss: 0.7022 - accuracy: 0.7504WARNING:tensorflow:Can save best model only with val_acc available, skipping.\n",
      "533/533 [==============================] - 41s 77ms/step - loss: 0.7022 - accuracy: 0.7504 - val_loss: 0.5864 - val_accuracy: 0.7908\n",
      "Epoch 4/100\n",
      "533/533 [==============================] - ETA: 0s - loss: 0.4533 - accuracy: 0.8454WARNING:tensorflow:Can save best model only with val_acc available, skipping.\n",
      "533/533 [==============================] - 40s 75ms/step - loss: 0.4533 - accuracy: 0.8454 - val_loss: 0.3801 - val_accuracy: 0.8773\n",
      "Epoch 5/100\n",
      "533/533 [==============================] - ETA: 0s - loss: 0.3533 - accuracy: 0.8780WARNING:tensorflow:Can save best model only with val_acc available, skipping.\n",
      "533/533 [==============================] - 37s 69ms/step - loss: 0.3533 - accuracy: 0.8780 - val_loss: 0.3696 - val_accuracy: 0.8747\n",
      "Epoch 6/100\n",
      "533/533 [==============================] - ETA: 0s - loss: 0.2993 - accuracy: 0.8959WARNING:tensorflow:Can save best model only with val_acc available, skipping.\n",
      "533/533 [==============================] - 37s 69ms/step - loss: 0.2993 - accuracy: 0.8959 - val_loss: 0.2582 - val_accuracy: 0.9151\n",
      "Epoch 7/100\n",
      "533/533 [==============================] - ETA: 0s - loss: 0.2671 - accuracy: 0.9085WARNING:tensorflow:Can save best model only with val_acc available, skipping.\n",
      "533/533 [==============================] - 38s 71ms/step - loss: 0.2671 - accuracy: 0.9085 - val_loss: 0.2363 - val_accuracy: 0.9193\n",
      "Epoch 8/100\n",
      "533/533 [==============================] - ETA: 0s - loss: 0.2497 - accuracy: 0.9130WARNING:tensorflow:Can save best model only with val_acc available, skipping.\n",
      "533/533 [==============================] - 37s 70ms/step - loss: 0.2497 - accuracy: 0.9130 - val_loss: 0.2467 - val_accuracy: 0.9184\n",
      "Epoch 9/100\n",
      "533/533 [==============================] - ETA: 0s - loss: 0.2310 - accuracy: 0.9214WARNING:tensorflow:Can save best model only with val_acc available, skipping.\n",
      "533/533 [==============================] - 37s 70ms/step - loss: 0.2310 - accuracy: 0.9214 - val_loss: 0.2318 - val_accuracy: 0.9240\n",
      "Epoch 10/100\n",
      "533/533 [==============================] - ETA: 0s - loss: 0.2127 - accuracy: 0.9265WARNING:tensorflow:Can save best model only with val_acc available, skipping.\n",
      "533/533 [==============================] - 38s 70ms/step - loss: 0.2127 - accuracy: 0.9265 - val_loss: 0.2405 - val_accuracy: 0.9245\n",
      "Epoch 11/100\n",
      "533/533 [==============================] - ETA: 0s - loss: 0.2087 - accuracy: 0.9277WARNING:tensorflow:Can save best model only with val_acc available, skipping.\n",
      "533/533 [==============================] - 37s 70ms/step - loss: 0.2087 - accuracy: 0.9277 - val_loss: 0.1932 - val_accuracy: 0.9381\n",
      "Epoch 12/100\n",
      "533/533 [==============================] - ETA: 0s - loss: 0.1927 - accuracy: 0.9317WARNING:tensorflow:Can save best model only with val_acc available, skipping.\n",
      "533/533 [==============================] - 37s 70ms/step - loss: 0.1927 - accuracy: 0.9317 - val_loss: 0.1904 - val_accuracy: 0.9374\n",
      "Epoch 13/100\n",
      "533/533 [==============================] - ETA: 0s - loss: 0.1781 - accuracy: 0.9386WARNING:tensorflow:Can save best model only with val_acc available, skipping.\n",
      "533/533 [==============================] - 37s 70ms/step - loss: 0.1781 - accuracy: 0.9386 - val_loss: 0.2025 - val_accuracy: 0.9369\n",
      "Epoch 14/100\n",
      "533/533 [==============================] - ETA: 0s - loss: 0.1710 - accuracy: 0.9408WARNING:tensorflow:Can save best model only with val_acc available, skipping.\n",
      "533/533 [==============================] - 37s 70ms/step - loss: 0.1710 - accuracy: 0.9408 - val_loss: 0.2060 - val_accuracy: 0.9322\n",
      "Epoch 15/100\n",
      "533/533 [==============================] - ETA: 0s - loss: 0.1660 - accuracy: 0.9402WARNING:tensorflow:Can save best model only with val_acc available, skipping.\n",
      "533/533 [==============================] - 37s 70ms/step - loss: 0.1660 - accuracy: 0.9402 - val_loss: 0.2376 - val_accuracy: 0.9259\n",
      "Epoch 16/100\n",
      "533/533 [==============================] - ETA: 0s - loss: 0.1621 - accuracy: 0.9445WARNING:tensorflow:Can save best model only with val_acc available, skipping.\n",
      "533/533 [==============================] - 37s 70ms/step - loss: 0.1621 - accuracy: 0.9445 - val_loss: 0.1867 - val_accuracy: 0.9421\n",
      "Epoch 17/100\n",
      "533/533 [==============================] - ETA: 0s - loss: 0.1595 - accuracy: 0.9464WARNING:tensorflow:Can save best model only with val_acc available, skipping.\n",
      "533/533 [==============================] - 38s 72ms/step - loss: 0.1595 - accuracy: 0.9464 - val_loss: 0.2042 - val_accuracy: 0.9341\n",
      "Epoch 18/100\n",
      "533/533 [==============================] - ETA: 0s - loss: 0.1542 - accuracy: 0.9463WARNING:tensorflow:Can save best model only with val_acc available, skipping.\n",
      "533/533 [==============================] - 38s 71ms/step - loss: 0.1542 - accuracy: 0.9463 - val_loss: 0.2094 - val_accuracy: 0.9289\n",
      "Epoch 19/100\n",
      "533/533 [==============================] - ETA: 0s - loss: 0.1491 - accuracy: 0.9470WARNING:tensorflow:Can save best model only with val_acc available, skipping.\n",
      "533/533 [==============================] - 38s 71ms/step - loss: 0.1491 - accuracy: 0.9470 - val_loss: 0.2127 - val_accuracy: 0.9294\n",
      "Epoch 20/100\n",
      "533/533 [==============================] - ETA: 0s - loss: 0.1466 - accuracy: 0.9486WARNING:tensorflow:Can save best model only with val_acc available, skipping.\n",
      "533/533 [==============================] - 38s 71ms/step - loss: 0.1466 - accuracy: 0.9486 - val_loss: 0.1935 - val_accuracy: 0.9404\n",
      "Epoch 21/100\n",
      "533/533 [==============================] - ETA: 0s - loss: 0.1388 - accuracy: 0.9521WARNING:tensorflow:Can save best model only with val_acc available, skipping.\n",
      "533/533 [==============================] - 40s 74ms/step - loss: 0.1388 - accuracy: 0.9521 - val_loss: 0.2071 - val_accuracy: 0.9362\n",
      "Epoch 22/100\n",
      "533/533 [==============================] - ETA: 0s - loss: 0.1348 - accuracy: 0.9518WARNING:tensorflow:Can save best model only with val_acc available, skipping.\n",
      "533/533 [==============================] - 41s 77ms/step - loss: 0.1348 - accuracy: 0.9518 - val_loss: 0.2036 - val_accuracy: 0.9390\n",
      "Epoch 23/100\n",
      "533/533 [==============================] - ETA: 0s - loss: 0.1269 - accuracy: 0.9565WARNING:tensorflow:Can save best model only with val_acc available, skipping.\n",
      "533/533 [==============================] - 38s 72ms/step - loss: 0.1269 - accuracy: 0.9565 - val_loss: 0.2013 - val_accuracy: 0.9364\n",
      "Epoch 24/100\n",
      "533/533 [==============================] - ETA: 0s - loss: 0.1353 - accuracy: 0.9510WARNING:tensorflow:Can save best model only with val_acc available, skipping.\n",
      "533/533 [==============================] - 38s 71ms/step - loss: 0.1353 - accuracy: 0.9510 - val_loss: 0.1942 - val_accuracy: 0.9411\n",
      "Epoch 25/100\n",
      "533/533 [==============================] - ETA: 0s - loss: 0.1292 - accuracy: 0.9555WARNING:tensorflow:Can save best model only with val_acc available, skipping.\n",
      "533/533 [==============================] - 38s 72ms/step - loss: 0.1292 - accuracy: 0.9555 - val_loss: 0.1903 - val_accuracy: 0.9421\n",
      "Epoch 26/100\n",
      "533/533 [==============================] - ETA: 0s - loss: 0.1247 - accuracy: 0.9572WARNING:tensorflow:Can save best model only with val_acc available, skipping.\n",
      "533/533 [==============================] - 39s 73ms/step - loss: 0.1247 - accuracy: 0.9572 - val_loss: 0.2385 - val_accuracy: 0.9313\n",
      "Epoch 00026: early stopping\n"
     ]
    }
   ],
   "source": [
    "hist = model.fit(\n",
    "    x=x_train, \n",
    "    y=y_train,\n",
    "    epochs=5, \n",
    "    callbacks=[early_stop, checkpoint], \n",
    "    batch_size=32, \n",
    "    validation_data=(x_valid,y_valid)\n",
    ")"
   ]
  },
  {
   "cell_type": "code",
   "execution_count": 18,
   "metadata": {
    "scrolled": true
   },
   "outputs": [
    {
     "data": {

      "image/png": "[encoded data removed]",
      "text/plain": [
       "<Figure size 432x288 with 1 Axes>"
      ]
     },
     "metadata": {
      "needs_background": "light"
     },
     "output_type": "display_data"
    }
   ],
   "source": [
    "from matplotlib import pyplot\n",
    "pyplot.plot(hist.history['loss'], label='train')\n",
    "pyplot.plot(hist.history['val_loss'], label='test')\n",
    "pyplot.legend()\n",
    "pyplot.show()"
   ]
  },
  {
   "cell_type": "markdown",
   "metadata": {},
   "source": [
    "### Save or Loading the best model"
   ]
  },
  {
   "cell_type": "code",
   "execution_count": 19,
   "metadata": {},
   "outputs": [],
   "source": [
    "model.save('speech2text_model.hdf5')"
   ]
  },
  {
   "cell_type": "code",
   "execution_count": 20,
   "metadata": {},
   "outputs": [],
   "source": [
    "from keras.models import load_model\n",
    "model = load_model('speech2text_model.hdf5')"
   ]
  },
  {
   "cell_type": "markdown",
   "metadata": {},
   "source": [
    "Define the function that predicts text for the given audio:"
   ]
  },
  {
   "cell_type": "code",
   "execution_count": 21,
   "metadata": {},
   "outputs": [],
   "source": [
    "def s2t_predict(audio, shape_num=8000):\n",
    "    prob=model.predict(audio.reshape(1,shape_num,1))\n",
    "    index=np.argmax(prob[0])\n",
    "    return classes[index]"
   ]
  },
  {
   "cell_type": "markdown",
   "metadata": {},
   "source": [
    "Prediction time! Make predictions on the validation data:"
   ]
  },
  {
   "cell_type": "code",
   "execution_count": 22,
   "metadata": {},
   "outputs": [
    {
     "name": "stdout",
     "output_type": "stream",
     "text": [
      "Audio: no\n"
     ]
    },
    {
     "data": {
      "text/html": [
       "\n",
       "                <audio  controls=\"controls\" >\n",
       "                    <source src=\"data:audio/wav;base64,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\" type=\"audio/wav\" />\n",
       "                    Your browser does not support the audio element.\n",
       "                </audio>\n",
       "              "
      ],
      "text/plain": [
       "<IPython.lib.display.Audio object>"
      ]
     },
     "execution_count": 22,
     "metadata": {},
     "output_type": "execute_result"
    }
   ],
   "source": [
    "import random\n",
    "index=random.randint(0,len(x_valid)-1)\n",
    "samples=x_valid[index].ravel()\n",
    "print(\"Audio:\",classes[np.argmax(y_valid[index])])\n",
    "ipd.Audio(samples, rate=8000)"
   ]
  },
  {
   "cell_type": "code",
   "execution_count": 23,
   "metadata": {},
   "outputs": [
    {
     "data": {
      "text/plain": [
       "(8000,)"
      ]
     },
     "execution_count": 23,
     "metadata": {},
     "output_type": "execute_result"
    }
   ],
   "source": [
    "samples.shape"
   ]
  },
  {
   "cell_type": "code",
   "execution_count": 24,
   "metadata": {},
   "outputs": [
    {
     "name": "stdout",
     "output_type": "stream",
     "text": [
      "Text: no\n"
     ]
    }
   ],
   "source": [
    "print(\"Text:\",s2t_predict(samples))"
   ]
  },
  {
   "cell_type": "markdown",
   "metadata": {},
   "source": [
    "The best part is yet to come! Here is a script that prompts a user to record voice commands. Record your own voice commands and test it on the model:"
   ]
  },
  {
   "cell_type": "markdown",
   "metadata": {},
   "source": [
    "Let us now read the saved voice command and convert it to text:"
   ]
  },
  {
   "cell_type": "code",
   "execution_count": 25,
   "metadata": {},
   "outputs": [
    {
     "ename": "ModuleNotFoundError",
     "evalue": "No module named 'sounddevice'",
     "output_type": "error",
     "traceback": [
      "\u001b[0;31m---------------------------------------------------------------------------\u001b[0m",
      "\u001b[0;31mModuleNotFoundError\u001b[0m                       Traceback (most recent call last)",
      "\u001b[0;32m<ipython-input-25-4190bea84f30>\u001b[0m in \u001b[0;36m<module>\u001b[0;34m\u001b[0m\n\u001b[0;32m----> 1\u001b[0;31m \u001b[0;32mimport\u001b[0m \u001b[0msounddevice\u001b[0m \u001b[0;32mas\u001b[0m \u001b[0msd\u001b[0m\u001b[0;34m\u001b[0m\u001b[0;34m\u001b[0m\u001b[0m\n\u001b[0m\u001b[1;32m      2\u001b[0m \u001b[0;32mimport\u001b[0m \u001b[0msoundfile\u001b[0m \u001b[0;32mas\u001b[0m \u001b[0msf\u001b[0m\u001b[0;34m\u001b[0m\u001b[0;34m\u001b[0m\u001b[0m\n\u001b[1;32m      3\u001b[0m \u001b[0;34m\u001b[0m\u001b[0m\n\u001b[1;32m      4\u001b[0m \u001b[0msamplerate\u001b[0m \u001b[0;34m=\u001b[0m \u001b[0;36m16000\u001b[0m\u001b[0;34m\u001b[0m\u001b[0;34m\u001b[0m\u001b[0m\n\u001b[1;32m      5\u001b[0m \u001b[0mduration\u001b[0m \u001b[0;34m=\u001b[0m \u001b[0;36m1\u001b[0m \u001b[0;31m# seconds\u001b[0m\u001b[0;34m\u001b[0m\u001b[0;34m\u001b[0m\u001b[0m\n",
      "\u001b[0;31mModuleNotFoundError\u001b[0m: No module named 'sounddevice'"
     ]
    }
   ],
   "source": [
    "import sounddevice as sd\n",
    "import soundfile as sf\n",
    "\n",
    "samplerate = 16000  \n",
    "duration = 1 # seconds\n",
    "filename = 'yes.wav'\n",
    "print(\"start\")\n",
    "mydata = sd.rec(int(samplerate * duration), samplerate=samplerate,\n",
    "    channels=1, blocking=True)\n",
    "print(\"end\")\n",
    "sd.wait()\n",
    "sf.write(filename, mydata, samplerate)"
   ]
  },
  {
   "cell_type": "code",
   "execution_count": null,
   "metadata": {},
   "outputs": [],
   "source": [
    "#reading the voice commands\n",
    "test, test_rate = librosa.load('yes.wav', sr = 16000)\n",
    "test_sample = librosa.resample(test, test_rate, 8000)\n",
    "print(test_sample.shape)\n",
    "ipd.Audio(test_sample,rate=8000)              "
   ]
  },
  {
   "cell_type": "code",
   "execution_count": null,
   "metadata": {},
   "outputs": [],
   "source": [
    "#converting voice commands to text\n",
    "s2t_predict(test_sample)"
   ]
  },
  {
   "cell_type": "code",
   "execution_count": null,
   "metadata": {},
   "outputs": [],
   "source": []
  }
 ],
 "metadata": {
  "kernelspec": {
   "display_name": "kaggle",
   "language": "python",
   "name": "kaggle"
  },
  "language_info": {
   "codemirror_mode": {
    "name": "ipython",
    "version": 3
   },
   "file_extension": ".py",
   "mimetype": "text/x-python",
   "name": "python",
   "nbconvert_exporter": "python",
   "pygments_lexer": "ipython3",
   "version": "3.8.5"
  }
 },
 "nbformat": 4,
 "nbformat_minor": 1
}
