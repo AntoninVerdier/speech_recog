{
 "cells": [
  {
   "cell_type": "markdown",
   "metadata": {},
   "source": [
    "Dataset from [here](https://www.kaggle.com/c/tensorflow-speech-recognition-challenge)."
   ]
  },
  {
   "cell_type": "code",
   "execution_count": 1,
   "metadata": {},
   "outputs": [],
   "source": [
    "from tensorflow.compat.v1 import ConfigProto\n",
    "from tensorflow.compat.v1 import Session\n",
    "import os\n",
    "import librosa\n",
    "import IPython.display as ipd\n",
    "import matplotlib.pyplot as plt\n",
    "import numpy as np\n",
    "from scipy.io import wavfile\n",
    "from tqdm import tqdm\n",
    "import warnings\n",
    "\n",
    "\n",
    "config = ConfigProto()\n",
    "config.gpu_options.allow_growth = True\n",
    "sess = Session(config=config)\n",
    "\n",
    "warnings.filterwarnings(\"ignore\")"
   ]
  },
  {
   "cell_type": "markdown",
   "metadata": {},
   "source": [
    "**Preprocessing the audio waves**"
   ]
  },
  {
   "cell_type": "code",
   "execution_count": 2,
   "metadata": {},
   "outputs": [],
   "source": [
    "# All samples\n",
    "# labels = [\n",
    "#     'left', 'cat', 'wow', 'six', 'go', 'one', 'dog', 'nine', 'sheila', 'yes',\n",
    "#     'down', 'bird', 'tree', 'up', 'eight', 'bed', 'three', 'on', 'house',\n",
    "#     'five', 'seven', 'zero', 'right', 'four', 'no', 'two', 'off', 'happy',\n",
    "#     'stop', 'marvin'\n",
    "# ]\n",
    "\n",
    "# Subsample\n",
    "labels = [\n",
    "    'left', 'go', 'yes', 'down', 'up', 'on', 'right', 'no', 'off', 'stop',\n",
    "]"
   ]
  },
  {
   "cell_type": "code",
   "execution_count": 3,
   "metadata": {},
   "outputs": [
    {
     "name": "stderr",
     "output_type": "stream",
     "text": [
      "100%|██████████| 10/10 [04:09<00:00, 24.93s/it]\n"
     ]
    }
   ],
   "source": [
    "train_audio_path = 'Data/train/audio'\n",
    "\n",
    "all_wave = []\n",
    "all_label = []\n",
    "for label in tqdm(labels):\n",
    "    waves = [f for f in os.listdir(os.path.join(train_audio_path, label)) if f.endswith('.wav')]\n",
    "    for wav in waves:\n",
    "        samples, sample_rate = librosa.load(os.path.join(train_audio_path, label, wav), sr=16000)\n",
    "        samples = librosa.resample(samples, sample_rate, 8000)\n",
    "        if(len(samples)== 8000) : \n",
    "            all_wave.append(samples)\n",
    "            all_label.append(label)\n"
   ]
  },
  {
   "cell_type": "markdown",
   "metadata": {},
   "source": [
    "Convert the output labels to integer encoded:"
   ]
  },
  {
   "cell_type": "code",
   "execution_count": 8,
   "metadata": {},
   "outputs": [],
   "source": [
    "from sklearn.preprocessing import LabelEncoder\n",
    "from keras.utils import np_utils\n",
    "\n",
    "label_enconder = LabelEncoder()\n",
    "y = label_enconder.fit_transform(all_label)\n",
    "classes = list(label_enconder.classes_)\n",
    "y = np_utils.to_categorical(y, num_classes=len(labels))"
   ]
  },
  {
   "cell_type": "markdown",
   "metadata": {},
   "source": [
    "Reshape the 2D array to 3D since the input to the conv1d must be a 3D array:"
   ]
  },
  {
   "cell_type": "code",
   "execution_count": 9,
   "metadata": {},
   "outputs": [],
   "source": [
    "all_wave = np.array(all_wave).reshape(-1,8000,1)"
   ]
  },
  {
   "cell_type": "markdown",
   "metadata": {},
   "source": [
    "**Split into train and validation set**\n",
    "\n",
    "Next, we will train the model on 80% of the data and validate on the remaining 20%:\n"
   ]
  },
  {
   "cell_type": "code",
   "execution_count": 10,
   "metadata": {},
   "outputs": [],
   "source": [
    "from sklearn.model_selection import train_test_split\n",
    "x_train, x_valid, y_train, y_valid = train_test_split(np.array(all_wave),np.array(y),stratify=y,test_size = 0.2,random_state=777,shuffle=True)"
   ]
  },
  {
   "cell_type": "markdown",
   "metadata": {},
   "source": [
    "**Model Architecture**"
   ]
  },
  {
   "cell_type": "code",
   "execution_count": null,
   "metadata": {},
   "outputs": [],
   "source": [
    "#model = Sequential()\n",
    "\n",
    "#model.add(Conv2D(32, (3, 3), stride=[1, 3, 3, 1], padding=\"same\", activation=\"relu\"))\n",
    "#model.add(Lambda(tf.nn.local_response_normalization)\n",
    "#model.add(MaxPooling2D(pool_size=(2, 2)))\n",
    "          \n",
    "#model.add(Conv2D(32, (3, 3), padding=\"same\", activation=\"relu\"))\n",
    "#model.add(Lambda(tf.nn.local_response_normalization)\n",
    "#model.add(MaxPooling2D(pool_size=(2, 2)))\n",
    "          \n",
    "#model.add(Conv2D(32, (3, 3), padding=\"same\", activation=\"relu\"))\n",
    "\n",
    "#model.add(Conv2D(32, (3, 3), padding=\"same\", activation=\"relu\"))\n",
    "#model.add(Conv2D(32, (3, 3), padding=\"same\", activation=\"relu\"))\n",
    "#model.add(MaxPooling2D(pool_size=(2, 2)))\n",
    "#model.add(Flatten())\n",
    "#model.add(Dense())"
   ]
  },
  {
   "cell_type": "code",
   "execution_count": 17,
   "metadata": {},
   "outputs": [
    {
     "name": "stdout",
     "output_type": "stream",
     "text": [
      "Model: \"sequential\"\n",
      "_________________________________________________________________\n",
      "Layer (type)                 Output Shape              Param #   \n",
      "=================================================================\n",
      "batch_normalization (BatchNo (None, 8000, 1)           4         \n",
      "_________________________________________________________________\n",
      "conv1d (Conv1D)              (None, 7988, 8)           112       \n",
      "_________________________________________________________________\n",
      "max_pooling1d (MaxPooling1D) (None, 2662, 8)           0         \n",
      "_________________________________________________________________\n",
      "dropout (Dropout)            (None, 2662, 8)           0         \n",
      "_________________________________________________________________\n",
      "conv1d_1 (Conv1D)            (None, 2652, 16)          1424      \n",
      "_________________________________________________________________\n",
      "max_pooling1d_1 (MaxPooling1 (None, 884, 16)           0         \n",
      "_________________________________________________________________\n",
      "dropout_1 (Dropout)          (None, 884, 16)           0         \n",
      "_________________________________________________________________\n",
      "conv1d_2 (Conv1D)            (None, 876, 32)           4640      \n",
      "_________________________________________________________________\n",
      "max_pooling1d_2 (MaxPooling1 (None, 292, 32)           0         \n",
      "_________________________________________________________________\n",
      "dropout_2 (Dropout)          (None, 292, 32)           0         \n",
      "_________________________________________________________________\n",
      "batch_normalization_1 (Batch (None, 292, 32)           128       \n",
      "_________________________________________________________________\n",
      "bidirectional (Bidirectional (None, 292, 128)          124416    \n",
      "_________________________________________________________________\n",
      "bidirectional_1 (Bidirection (None, 292, 128)          198144    \n",
      "_________________________________________________________________\n",
      "bidirectional_2 (Bidirection (None, 128)               198144    \n",
      "_________________________________________________________________\n",
      "dense (Dense)                (None, 256)               33024     \n",
      "_________________________________________________________________\n",
      "dense_1 (Dense)              (None, 10)                2570      \n",
      "=================================================================\n",
      "Total params: 562,606\n",
      "Trainable params: 562,540\n",
      "Non-trainable params: 66\n",
      "_________________________________________________________________\n"
     ]
    }
   ],
   "source": [
    "from keras.layers import Bidirectional, BatchNormalization, GRU, TimeDistributed\n",
    "from keras.layers import Dense, Dropout, Flatten, Conv1D, Input, MaxPooling1D\n",
    "from keras.models import Model, Sequential\n",
    "from keras.callbacks import EarlyStopping, ModelCheckpoint\n",
    "from keras import backend as K\n",
    "K.clear_session()\n",
    "import os\n",
    "os.environ['TF_FORCE_GPU_ALLOW_GROWTH'] = \"true\"\n",
    "\n",
    "\n",
    "\n",
    "model = Sequential()\n",
    "model.add(Input(shape=(8000,1)))\n",
    "model.add(BatchNormalization(axis=-1, momentum=0.99, epsilon=1e-3, center=True, scale=True))\n",
    "\n",
    "#First Conv1D layer\n",
    "model.add(Conv1D(8,13, padding='valid', activation='relu', strides=1))\n",
    "model.add(MaxPooling1D(3))\n",
    "model.add(Dropout(0.3))\n",
    "\n",
    "#Second Conv1D layer\n",
    "model.add(Conv1D(16, 11, padding='valid', activation='relu', strides=1))\n",
    "model.add(MaxPooling1D(3))\n",
    "model.add(Dropout(0.3))\n",
    "\n",
    "#Third Conv1D layer\n",
    "model.add(Conv1D(32, 9, padding='valid', activation='relu', strides=1))\n",
    "model.add(MaxPooling1D(3))\n",
    "model.add(Dropout(0.3))\n",
    "\n",
    "model.add(BatchNormalization(axis=-1, momentum=0.99, epsilon=1e-3, center=True, scale=True))\n",
    "\n",
    "model.add(Bidirectional(GRU(128, return_sequences=True), merge_mode='sum'))\n",
    "model.add(Bidirectional(GRU(128, return_sequences=True), merge_mode='sum'))\n",
    "model.add(Bidirectional(GRU(128, return_sequences=False), merge_mode='sum'))\n",
    "\n",
    "x = BatchNormalization(axis=-1, momentum=0.99, epsilon=1e-3, center=True, scale=True)\n",
    "\n",
    "#Flatten layer\n",
    "# x = Flatten()(x)\n",
    "\n",
    "#Dense Layer 1\n",
    "model.add(Dense(256, activation='relu'))\n",
    "model.add(Dense(len(labels), activation=\"softmax\"))\n",
    "model.summary()"
   ]
  },
  {
   "cell_type": "markdown",
   "metadata": {},
   "source": [
    "Define the loss function to be categorical cross-entropy since it is a multi-classification problem:"
   ]
  },
  {
   "cell_type": "code",
   "execution_count": 18,
   "metadata": {},
   "outputs": [],
   "source": [
    "model.compile(loss='categorical_crossentropy',optimizer='nadam',metrics=['accuracy'])"
   ]
  },
  {
   "cell_type": "markdown",
   "metadata": {},
   "source": [
    "Early stopping and model checkpoints are the callbacks to stop training the neural network at the right time and to save the best model after every epoch:"
   ]
  },
  {
   "cell_type": "code",
   "execution_count": 19,
   "metadata": {},
   "outputs": [],
   "source": [
    "early_stop = EarlyStopping(monitor='val_loss', mode='min', \n",
    "                           verbose=1, patience=10, min_delta=0.0001)\n",
    "\n",
    "checkpoint = ModelCheckpoint('speech2text_model.hdf5', monitor='val_acc', \n",
    "                             verbose=1, save_best_only=True, mode='max')"
   ]
  },
  {
   "cell_type": "markdown",
   "metadata": {},
   "source": [
    "Let us train the model on a batch size of 32 and evaluate the performance on the holdout set:"
   ]
  },
  {
   "cell_type": "code",
   "execution_count": 20,
   "metadata": {},
   "outputs": [
    {
     "name": "stdout",
     "output_type": "stream",
     "text": [
      "Epoch 1/5\n",
      "533/533 [==============================] - ETA: 0s - loss: 2.3066 - accuracy: 0.1007WARNING:tensorflow:Can save best model only with val_acc available, skipping.\n",
      "533/533 [==============================] - 51s 97ms/step - loss: 2.3066 - accuracy: 0.1007 - val_loss: 2.3015 - val_accuracy: 0.1034\n",
      "Epoch 2/5\n",
      "533/533 [==============================] - ETA: 0s - loss: 2.2877 - accuracy: 0.1081WARNING:tensorflow:Can save best model only with val_acc available, skipping.\n",
      "533/533 [==============================] - 48s 90ms/step - loss: 2.2877 - accuracy: 0.1081 - val_loss: 2.2850 - val_accuracy: 0.1487\n",
      "Epoch 3/5\n",
      "533/533 [==============================] - ETA: 0s - loss: 1.4170 - accuracy: 0.4540WARNING:tensorflow:Can save best model only with val_acc available, skipping.\n",
      "533/533 [==============================] - 43s 81ms/step - loss: 1.4170 - accuracy: 0.4540 - val_loss: 0.8278 - val_accuracy: 0.7197\n",
      "Epoch 4/5\n",
      "533/533 [==============================] - ETA: 0s - loss: 0.6511 - accuracy: 0.7710WARNING:tensorflow:Can save best model only with val_acc available, skipping.\n",
      "533/533 [==============================] - 43s 81ms/step - loss: 0.6511 - accuracy: 0.7710 - val_loss: 0.4469 - val_accuracy: 0.8480\n",
      "Epoch 5/5\n",
      "533/533 [==============================] - ETA: 0s - loss: 0.4385 - accuracy: 0.8474WARNING:tensorflow:Can save best model only with val_acc available, skipping.\n",
      "533/533 [==============================] - 44s 82ms/step - loss: 0.4385 - accuracy: 0.8474 - val_loss: 0.4058 - val_accuracy: 0.8588\n"
     ]
    }
   ],
   "source": [
    "hist = model.fit(\n",
    "    x=x_train, \n",
    "    y=y_train,\n",
    "    epochs=5, \n",
    "    callbacks=[early_stop, checkpoint], \n",
    "    batch_size=32, \n",
    "    validation_data=(x_valid,y_valid)\n",
    ")"
   ]
  },
  {
   "cell_type": "markdown",
   "metadata": {},
   "source": [
    "**Diagnostic plot**\n",
    "\n",
    "I’m going to lean on visualization again to understand the performance of the model over a period of time:"
   ]
  },
  {
   "cell_type": "code",
   "execution_count": 21,
   "metadata": {
    "scrolled": true
   },
   "outputs": [
    {
     "data": {
      "image/png": "[encoded data removed]",
      "text/plain": [
       "<Figure size 432x288 with 1 Axes>"
      ]
     },
     "metadata": {
      "needs_background": "light"
     },
     "output_type": "display_data"
    }
   ],
   "source": [
    "from matplotlib import pyplot\n",
    "pyplot.plot(hist.history['loss'], label='train')\n",
    "pyplot.plot(hist.history['val_loss'], label='test')\n",
    "pyplot.legend()\n",
    "pyplot.show()"
   ]
  },
  {
   "cell_type": "markdown",
   "metadata": {},
   "source": [
    "### Save or Loading the best model"
   ]
  },
  {
   "cell_type": "code",
   "execution_count": 22,
   "metadata": {},
   "outputs": [],
   "source": [
    "model.save('speech2text_model.hdf5')"
   ]
  },
  {
   "cell_type": "code",
   "execution_count": 23,
   "metadata": {},
   "outputs": [],
   "source": [
    "from keras.models import load_model\n",
    "model = load_model('speech2text_model.hdf5')"
   ]
  },
  {
   "cell_type": "markdown",
   "metadata": {},
   "source": [
    "Define the function that predicts text for the given audio:"
   ]
  },
  {
   "cell_type": "code",
   "execution_count": 24,
   "metadata": {},
   "outputs": [],
   "source": [
    "def s2t_predict(audio, shape_num=8000):\n",
    "    prob=model.predict(audio.reshape(1,shape_num,1))\n",
    "    index=np.argmax(prob[0])\n",
    "    return classes[index]"
   ]
  },
  {
   "cell_type": "markdown",
   "metadata": {},
   "source": [
    "Prediction time! Make predictions on the validation data:"
   ]
  },
  {
   "cell_type": "code",
   "execution_count": 39,
   "metadata": {},
   "outputs": [
    {
     "name": "stdout",
     "output_type": "stream",
     "text": [
      "Audio: stop\n"
     ]
    },
    {
     "data": {
      "text/html": [
       "\n",
       "                <audio  controls=\"controls\" >\n",
       "                    <source src=\"data:audio/wav;base64,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\" type=\"audio/wav\" />\n",
       "                    Your browser does not support the audio element.\n",
       "                </audio>\n",
       "              "
      ],
      "text/plain": [
       "<IPython.lib.display.Audio object>"
      ]
     },
     "execution_count": 39,
     "metadata": {},
     "output_type": "execute_result"
    }
   ],
   "source": [
    "import random\n",
    "index=random.randint(0,len(x_valid)-1)\n",
    "samples=x_valid[index].ravel()\n",
    "print(\"Audio:\",classes[np.argmax(y_valid[index])])\n",
    "ipd.Audio(samples, rate=8000)"
   ]
  },
  {
   "cell_type": "code",
   "execution_count": 26,
   "metadata": {},
   "outputs": [
    {
     "data": {
      "text/plain": [
       "(8000,)"
      ]
     },
     "execution_count": 26,
     "metadata": {},
     "output_type": "execute_result"
    }
   ],
   "source": [
    "samples.shape"
   ]
  },
  {
   "cell_type": "code",
   "execution_count": 27,
   "metadata": {},
   "outputs": [
    {
     "name": "stdout",
     "output_type": "stream",
     "text": [
      "Text: yes\n"
     ]
    }
   ],
   "source": [
    "print(\"Text:\",s2t_predict(samples))"
   ]
  },
  {
   "cell_type": "markdown",
   "metadata": {},
   "source": [
    "The best part is yet to come! Here is a script that prompts a user to record voice commands. Record your own voice commands and test it on the model:"
   ]
  },
  {
   "cell_type": "markdown",
   "metadata": {},
   "source": [
    "Let us now read the saved voice command and convert it to text:"
   ]
  },
  {
   "cell_type": "code",
   "execution_count": 28,
   "metadata": {},
   "outputs": [
    {
     "ename": "ModuleNotFoundError",
     "evalue": "No module named 'sounddevice'",
     "output_type": "error",
     "traceback": [
      "\u001b[0;31m---------------------------------------------------------------------------\u001b[0m",
      "\u001b[0;31mModuleNotFoundError\u001b[0m                       Traceback (most recent call last)",
      "\u001b[0;32m<ipython-input-28-4190bea84f30>\u001b[0m in \u001b[0;36m<module>\u001b[0;34m\u001b[0m\n\u001b[0;32m----> 1\u001b[0;31m \u001b[0;32mimport\u001b[0m \u001b[0msounddevice\u001b[0m \u001b[0;32mas\u001b[0m \u001b[0msd\u001b[0m\u001b[0;34m\u001b[0m\u001b[0;34m\u001b[0m\u001b[0m\n\u001b[0m\u001b[1;32m      2\u001b[0m \u001b[0;32mimport\u001b[0m \u001b[0msoundfile\u001b[0m \u001b[0;32mas\u001b[0m \u001b[0msf\u001b[0m\u001b[0;34m\u001b[0m\u001b[0;34m\u001b[0m\u001b[0m\n\u001b[1;32m      3\u001b[0m \u001b[0;34m\u001b[0m\u001b[0m\n\u001b[1;32m      4\u001b[0m \u001b[0msamplerate\u001b[0m \u001b[0;34m=\u001b[0m \u001b[0;36m16000\u001b[0m\u001b[0;34m\u001b[0m\u001b[0;34m\u001b[0m\u001b[0m\n\u001b[1;32m      5\u001b[0m \u001b[0mduration\u001b[0m \u001b[0;34m=\u001b[0m \u001b[0;36m1\u001b[0m \u001b[0;31m# seconds\u001b[0m\u001b[0;34m\u001b[0m\u001b[0;34m\u001b[0m\u001b[0m\n",
      "\u001b[0;31mModuleNotFoundError\u001b[0m: No module named 'sounddevice'"
     ]
    }
   ],
   "source": [
    "import sounddevice as sd\n",
    "import soundfile as sf\n",
    "\n",
    "samplerate = 16000  \n",
    "duration = 1 # seconds\n",
    "filename = 'yes.wav'\n",
    "print(\"start\")\n",
    "mydata = sd.rec(int(samplerate * duration), samplerate=samplerate,\n",
    "    channels=1, blocking=True)\n",
    "print(\"end\")\n",
    "sd.wait()\n",
    "sf.write(filename, mydata, samplerate)"
   ]
  },
  {
   "cell_type": "code",
   "execution_count": null,
   "metadata": {},
   "outputs": [],
   "source": [
    "#reading the voice commands\n",
    "test, test_rate = librosa.load('yes.wav', sr = 16000)\n",
    "test_sample = librosa.resample(test, test_rate, 8000)\n",
    "print(test_sample.shape)\n",
    "ipd.Audio(test_sample,rate=8000)              "
   ]
  },
  {
   "cell_type": "code",
   "execution_count": null,
   "metadata": {},
   "outputs": [],
   "source": [
    "#converting voice commands to text\n",
    "s2t_predict(test_sample)"
   ]
  },
  {
   "cell_type": "code",
   "execution_count": null,
   "metadata": {},
   "outputs": [],
   "source": []
  }
 ],
 "metadata": {
  "kernelspec": {
   "display_name": "kaggle",
   "language": "python",
   "name": "kaggle"
  },
  "language_info": {
   "codemirror_mode": {
    "name": "ipython",
    "version": 3
   },
   "file_extension": ".py",
   "mimetype": "text/x-python",
   "name": "python",
   "nbconvert_exporter": "python",
   "pygments_lexer": "ipython3",
   "version": "3.8.5"
  }
 },
 "nbformat": 4,
 "nbformat_minor": 1
}
